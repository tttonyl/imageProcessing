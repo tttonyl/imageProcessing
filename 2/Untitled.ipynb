{
 "cells": [
  {
   "cell_type": "code",
   "execution_count": 30,
   "metadata": {
    "collapsed": false
   },
   "outputs": [
    {
     "data": {
      "text/plain": [
       "[]"
      ]
     },
     "execution_count": 30,
     "metadata": {},
     "output_type": "execute_result"
    }
   ],
   "source": [
    "from skimage.viewer import ImageViewer as IV\n",
    "import skimage.io as io\n",
    "import numpy as np\n",
    "import matplotlib.pyplot as plt\n",
    "\n",
    "# code folows the idea of last lecture, which get a smaller img from original one and fill pixels in the skipped rows\n",
    "# and colums from its previous row and col to get the same size picture which however has less information in it.\n",
    "resample_size = 32 # change this to different size \n",
    "c = io.imread('chronometer.tif')\n",
    "\n",
    "c_smaller = np.ndarray(shape = (len(range(0,c.shape[0],resample_size)),len(c[1,:][0:c.shape[1]:resample_size])), dtype = \"uint8\")\n",
    "\n",
    "for i in range(0,c.shape[0],resample_size):\n",
    "    c_smaller[i/resample_size,:] = c[i,:][0:c.shape[1]:resample_size]\n",
    "\n",
    "c_resize = np.ndarray(shape = (c_smaller.shape[0]*resample_size,c_smaller.shape[1]*resample_size), dtype = \"uint8\")\n",
    "for i in range(0,c_smaller.shape[0]):\n",
    "    for j in range(0,c_smaller.shape[1]):\n",
    "        for h in range(i*resample_size,(i+1)*resample_size):\n",
    "            for k in range(j*resample_size,(j+1)*resample_size):\n",
    "                c_resize[h,k] = c_smaller[i,j]\n",
    "\n",
    "v = IV(c_resize)\n",
    "v.show()\n"
   ]
  },
  {
   "cell_type": "code",
   "execution_count": 2,
   "metadata": {
    "collapsed": false
   },
   "outputs": [
    {
     "name": "stderr",
     "output_type": "stream",
     "text": [
      "/Users/liutongyang/anaconda/lib/python2.7/site-packages/matplotlib/font_manager.py:273: UserWarning: Matplotlib is building the font cache using fc-list. This may take a moment.\n",
      "  warnings.warn('Matplotlib is building the font cache using fc-list. This may take a moment.')\n",
      "/Users/liutongyang/anaconda/lib/python2.7/site-packages/skimage/viewer/utils/core.py:10: UserWarning: Recommended matplotlib backend is `Agg` for full skimage.viewer functionality.\n",
      "  warn(\"Recommended matplotlib backend is `Agg` for full \"\n"
     ]
    }
   ],
   "source": []
  },
  {
   "cell_type": "code",
   "execution_count": 7,
   "metadata": {
    "collapsed": true
   },
   "outputs": [],
   "source": [
    "import matplotlib.pyplot as plt"
   ]
  },
  {
   "cell_type": "code",
   "execution_count": 52,
   "metadata": {
    "collapsed": false
   },
   "outputs": [
    {
     "data": {
      "text/plain": [
       "<matplotlib.image.AxesImage at 0x12bcf45d0>"
      ]
     },
     "execution_count": 52,
     "metadata": {},
     "output_type": "execute_result"
    }
   ],
   "source": [
    "d = io.imread(\"dollar.tif\")\n",
    "plt.imshow((d&(~(1<<0))),vmin = 0, vmax =255, cmap= plt.cm.gray)\n",
    "plt.imshow((d&(~(1<<1))),vmin = 0, vmax =255, cmap= plt.cm.gray)\n",
    "plt.imshow((d&(~(1<<2))),vmin = 0, vmax =255, cmap= plt.cm.gray)\n",
    "plt.imshow((d&(~(1<<3))),vmin = 0, vmax =255, cmap= plt.cm.gray)\n",
    "plt.imshow((d&(~(1<<4))),vmin = 0, vmax =255, cmap= plt.cm.gray)\n",
    "plt.imshow((d&(~(1<<5))),vmin = 0, vmax =255, cmap= plt.cm.gray)\n",
    "plt.imshow((d&(~(1<<6))),vmin = 0, vmax =255, cmap= plt.cm.gray)\n",
    "plt.imshow((d&(~(1<<7))),vmin = 0, vmax =255, cmap= plt.cm.gray)\n"
   ]
  },
  {
   "cell_type": "code",
   "execution_count": 44,
   "metadata": {
    "collapsed": false
   },
   "outputs": [
    {
     "data": {
      "text/plain": [
       "[]"
      ]
     },
     "execution_count": 44,
     "metadata": {},
     "output_type": "execute_result"
    }
   ],
   "source": [
    "\n",
    "a = np.empty(500)\n",
    "a[0:100] = 0\n",
    "a[100:200] = 50\n",
    "a[200:300] = 100\n",
    "a[300:400] = 200\n",
    "a[400:500] = 255\n",
    "a = a/255.0\n",
    "b = np.ones(500)\n",
    "mat = np.outer(b,a)\n",
    "tt = IV(mat)\n",
    "tt.show()\n"
   ]
  },
  {
   "cell_type": "code",
   "execution_count": 41,
   "metadata": {
    "collapsed": false
   },
   "outputs": [
    {
     "data": {
      "text/plain": [
       "2"
      ]
     },
     "execution_count": 41,
     "metadata": {},
     "output_type": "execute_result"
    }
   ],
   "source": [
    "(1<<1)"
   ]
  },
  {
   "cell_type": "code",
   "execution_count": 31,
   "metadata": {
    "collapsed": false
   },
   "outputs": [
    {
     "data": {
      "text/plain": [
       "<matplotlib.image.AxesImage at 0x122e570d0>"
      ]
     },
     "execution_count": 31,
     "metadata": {},
     "output_type": "execute_result"
    }
   ],
   "source": [
    "plt.imshow((d&(~(1<<7))), interpolation = 'none')\n"
   ]
  },
  {
   "cell_type": "code",
   "execution_count": 17,
   "metadata": {
    "collapsed": false
   },
   "outputs": [
    {
     "name": "stdout",
     "output_type": "stream",
     "text": [
      "Using matplotlib backend: MacOSX\n"
     ]
    }
   ],
   "source": [
    "%matplotlib "
   ]
  },
  {
   "cell_type": "code",
   "execution_count": null,
   "metadata": {
    "collapsed": true
   },
   "outputs": [],
   "source": []
  }
 ],
 "metadata": {
  "kernelspec": {
   "display_name": "Python [Root]",
   "language": "python",
   "name": "Python [Root]"
  },
  "language_info": {
   "codemirror_mode": {
    "name": "ipython",
    "version": 2
   },
   "file_extension": ".py",
   "mimetype": "text/x-python",
   "name": "python",
   "nbconvert_exporter": "python",
   "pygments_lexer": "ipython2",
   "version": "2.7.12"
  }
 },
 "nbformat": 4,
 "nbformat_minor": 0
}
